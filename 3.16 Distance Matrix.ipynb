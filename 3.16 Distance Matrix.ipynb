{
 "cells": [
  {
   "cell_type": "markdown",
   "metadata": {},
   "source": [
    "Write some code which prints out the distance matrix of a news article of your choosing. Test out the program with different sets of news articles. Can you find or create your own dataset?"
   ]
  },
  {
   "cell_type": "markdown",
   "metadata": {},
   "source": [
    "## What is a Distance Matrix?\n",
    "\n",
    "*How similar are these two articles?*\n",
    "\n",
    "How would you as a human answer this question?\n",
    "\n",
    "You might begin by reading the articles, then you summarise their revelant points, then you compare the articles by their summaries and ultimately suggest that these two articles are \"*insert whatever adjective*\" alike.\n",
    "\n",
    "But how would a computer do this? A computer, or a program, might take a similar approach. For example a program might:\n",
    "* Read the articles\n",
    "* Look for patterns in the words (TF)\n",
    "* Allocate importance to the words (IDF)\n",
    "* Compare the patterns in one article to the patterns in the other\n",
    "\n",
    "Whatever result the final stage ends up with, is the program's estimation of the similarity of those two articles.\n",
    "\n",
    "This is the essence of a distance matrix - it contains the distances, taken pairwise, between elements in a set.\n",
    "\n",
    "In this case, the elements in our set are the set of TF-IDF values for each article (with the set labelled as the name of the article).\n",
    "\n",
    "There are many ways to calculate distance, but the most simple and intuitive way we might measure this is by using Euclidean distance - *the distance of the straight line from A to B*.\n",
    "\n",
    "\n",
    "#### Euclidean Distance\n",
    "source: https://sciencing.com/euclidean-distance-7829754.html\n",
    "\n",
    "This is simple if you have two singular points, for example the distance between two numbers on a line.\n",
    "\n",
    "Subtract one point on the number line from another; the order of the subtraction doesn't matter. For example, one number is 8 and the other is -3. Subtracting 8 from -3 equals -11.\n",
    "\n",
    "Calculate the absolute value of the difference. To calculate the absolute value, square the number. For this example, -11 squared equals 121.\n",
    "\n",
    "Calculate the square root of that number to finish calculating the absolute value. For this example, the square root of 121 is 11. The distance between the two points is 11.\n",
    "\n",
    "--------------------------------------\n",
    "\n",
    "*...but our data sets contain many TF-IDF values, how do we compare the distance between those?*\n",
    "\n",
    "--------------------------------------\n",
    "\n",
    "The principle is the same, we are finding the distance between two points, but treating each variable (word) in the data set as our *a* and *b*. So for each TF-IDF value for a word in set (article) *a*, subtract the corresponding word's TF-IDF value from set (article) *b*.\n",
    "\n",
    "Calculate the squared difference for each pair of variables, sum up all the squared differences and take the square root. This is the euclidean distance between article 1 and article 2.\n",
    "\n",
    "Complete the same procedure for each pair of articles and you will be able to produce a square-matrix, with the article name spanning both the x- and y-axis, the contents of which will be the distances between the articles in the columns and the rows.\n",
    "\n",
    "The Euclidean Distance can be written as:"
   ]
  },
  {
   "cell_type": "markdown",
   "metadata": {},
   "source": [
    "$$d = \\sqrt{\\sum_{i=1}^{n}(b_{i}-a_{i})^{2}}$$"
   ]
  },
  {
   "cell_type": "markdown",
   "metadata": {},
   "source": [
    "Where:\n",
    "* *i* = ith variable in your set of TF-IDF values\n",
    "* *a* = article 1's TF-IDF values\n",
    "* *b* = article 2's TF-IDF values\n",
    "\n",
    "\n",
    "You can come back to this explanation any time, or look here for some further reading:\n",
    "\n",
    "* https://en.wikipedia.org/wiki/Distance_matrix\n",
    "* https://sciencing.com/euclidean-distance-7829754.html\n",
    "* https://en.wikipedia.org/wiki/Euclidean_distance\n",
    "\n",
    "Now, let's try calculating a distance matrix in python.\n",
    "\n",
    "Full disclosure: I am going to use SciPy's Spatial library, which provides functions to run spatial and distance algorithms on data sets. So while we will not be doing the above by hand, it is useful to have an understanding of what the result is actually telling you.\n",
    "\n",
    "https://docs.scipy.org/doc/scipy/reference/spatial.html"
   ]
  },
  {
   "cell_type": "markdown",
   "metadata": {},
   "source": [
    "## TF-IDF DataFrame\n",
    "\n",
    "It is important to note that TF-IDF scores are not the only measure of an article's content. But seeing as we have all encountered them before, for the purposes of this exercise we will be comparing the TF-IDF scores of each news article.\n",
    "\n",
    "This notebook is going to focus solely on implementing the distance matrix, so I will load up my own TF-IDF DataFrame that I created in the 3.14 exercise."
   ]
  },
  {
   "cell_type": "code",
   "execution_count": 1,
   "metadata": {},
   "outputs": [
    {
     "data": {
      "text/html": [
       "<div>\n",
       "<style scoped>\n",
       "    .dataframe tbody tr th:only-of-type {\n",
       "        vertical-align: middle;\n",
       "    }\n",
       "\n",
       "    .dataframe tbody tr th {\n",
       "        vertical-align: top;\n",
       "    }\n",
       "\n",
       "    .dataframe thead th {\n",
       "        text-align: right;\n",
       "    }\n",
       "</style>\n",
       "<table border=\"1\" class=\"dataframe\">\n",
       "  <thead>\n",
       "    <tr style=\"text-align: right;\">\n",
       "      <th></th>\n",
       "      <th>spread</th>\n",
       "      <th>important</th>\n",
       "      <th>largely</th>\n",
       "      <th>forward</th>\n",
       "      <th>these</th>\n",
       "      <th>fatally</th>\n",
       "      <th>ones</th>\n",
       "      <th>emotional</th>\n",
       "      <th>started</th>\n",
       "      <th>focusing</th>\n",
       "      <th>...</th>\n",
       "      <th>mortality</th>\n",
       "      <th>presence</th>\n",
       "      <th>s</th>\n",
       "      <th>tragedy</th>\n",
       "      <th>t</th>\n",
       "      <th>families</th>\n",
       "      <th>Patel</th>\n",
       "      <th>less</th>\n",
       "      <th>against</th>\n",
       "      <th>exercising</th>\n",
       "    </tr>\n",
       "  </thead>\n",
       "  <tbody>\n",
       "    <tr>\n",
       "      <td>Data/Coronavirus lockdown brings anguish for Tashan Daniel's family.txt</td>\n",
       "      <td>0.000000</td>\n",
       "      <td>0.000000</td>\n",
       "      <td>0.000000</td>\n",
       "      <td>0.000000</td>\n",
       "      <td>0.000000</td>\n",
       "      <td>0.003188</td>\n",
       "      <td>0.000000</td>\n",
       "      <td>0.000000</td>\n",
       "      <td>0.000000</td>\n",
       "      <td>0.003188</td>\n",
       "      <td>...</td>\n",
       "      <td>0.000000</td>\n",
       "      <td>0.003188</td>\n",
       "      <td>0.0</td>\n",
       "      <td>0.000000</td>\n",
       "      <td>0.003188</td>\n",
       "      <td>0.001188</td>\n",
       "      <td>0.000000</td>\n",
       "      <td>0.000000</td>\n",
       "      <td>0.000000</td>\n",
       "      <td>0.003188</td>\n",
       "    </tr>\n",
       "    <tr>\n",
       "      <td>Data/Does_20000_hospital_deaths_mean_failure_for_UK.txt</td>\n",
       "      <td>0.000987</td>\n",
       "      <td>0.000987</td>\n",
       "      <td>0.000987</td>\n",
       "      <td>0.000987</td>\n",
       "      <td>0.001973</td>\n",
       "      <td>0.000000</td>\n",
       "      <td>0.000368</td>\n",
       "      <td>0.000987</td>\n",
       "      <td>0.001973</td>\n",
       "      <td>0.000000</td>\n",
       "      <td>...</td>\n",
       "      <td>0.000987</td>\n",
       "      <td>0.000000</td>\n",
       "      <td>0.0</td>\n",
       "      <td>0.000000</td>\n",
       "      <td>0.000000</td>\n",
       "      <td>0.000000</td>\n",
       "      <td>0.000000</td>\n",
       "      <td>0.000000</td>\n",
       "      <td>0.000987</td>\n",
       "      <td>0.000000</td>\n",
       "    </tr>\n",
       "    <tr>\n",
       "      <td>Data/UK_hospital_deaths_pass_20000.txt</td>\n",
       "      <td>0.000000</td>\n",
       "      <td>0.000000</td>\n",
       "      <td>0.000000</td>\n",
       "      <td>0.000000</td>\n",
       "      <td>0.000000</td>\n",
       "      <td>0.000000</td>\n",
       "      <td>0.000743</td>\n",
       "      <td>0.000000</td>\n",
       "      <td>0.000000</td>\n",
       "      <td>0.000000</td>\n",
       "      <td>...</td>\n",
       "      <td>0.000000</td>\n",
       "      <td>0.000000</td>\n",
       "      <td>0.0</td>\n",
       "      <td>0.001993</td>\n",
       "      <td>0.000000</td>\n",
       "      <td>0.001486</td>\n",
       "      <td>0.001993</td>\n",
       "      <td>0.001993</td>\n",
       "      <td>0.000000</td>\n",
       "      <td>0.000000</td>\n",
       "    </tr>\n",
       "  </tbody>\n",
       "</table>\n",
       "<p>3 rows × 639 columns</p>\n",
       "</div>"
      ],
      "text/plain": [
       "                                                      spread  important  \\\n",
       "Data/Coronavirus lockdown brings anguish for Ta...  0.000000   0.000000   \n",
       "Data/Does_20000_hospital_deaths_mean_failure_fo...  0.000987   0.000987   \n",
       "Data/UK_hospital_deaths_pass_20000.txt              0.000000   0.000000   \n",
       "\n",
       "                                                     largely   forward  \\\n",
       "Data/Coronavirus lockdown brings anguish for Ta...  0.000000  0.000000   \n",
       "Data/Does_20000_hospital_deaths_mean_failure_fo...  0.000987  0.000987   \n",
       "Data/UK_hospital_deaths_pass_20000.txt              0.000000  0.000000   \n",
       "\n",
       "                                                       these   fatally  \\\n",
       "Data/Coronavirus lockdown brings anguish for Ta...  0.000000  0.003188   \n",
       "Data/Does_20000_hospital_deaths_mean_failure_fo...  0.001973  0.000000   \n",
       "Data/UK_hospital_deaths_pass_20000.txt              0.000000  0.000000   \n",
       "\n",
       "                                                        ones  emotional  \\\n",
       "Data/Coronavirus lockdown brings anguish for Ta...  0.000000   0.000000   \n",
       "Data/Does_20000_hospital_deaths_mean_failure_fo...  0.000368   0.000987   \n",
       "Data/UK_hospital_deaths_pass_20000.txt              0.000743   0.000000   \n",
       "\n",
       "                                                     started  focusing  ...  \\\n",
       "Data/Coronavirus lockdown brings anguish for Ta...  0.000000  0.003188  ...   \n",
       "Data/Does_20000_hospital_deaths_mean_failure_fo...  0.001973  0.000000  ...   \n",
       "Data/UK_hospital_deaths_pass_20000.txt              0.000000  0.000000  ...   \n",
       "\n",
       "                                                    mortality  presence    s  \\\n",
       "Data/Coronavirus lockdown brings anguish for Ta...   0.000000  0.003188  0.0   \n",
       "Data/Does_20000_hospital_deaths_mean_failure_fo...   0.000987  0.000000  0.0   \n",
       "Data/UK_hospital_deaths_pass_20000.txt               0.000000  0.000000  0.0   \n",
       "\n",
       "                                                     tragedy         t  \\\n",
       "Data/Coronavirus lockdown brings anguish for Ta...  0.000000  0.003188   \n",
       "Data/Does_20000_hospital_deaths_mean_failure_fo...  0.000000  0.000000   \n",
       "Data/UK_hospital_deaths_pass_20000.txt              0.001993  0.000000   \n",
       "\n",
       "                                                    families     Patel  \\\n",
       "Data/Coronavirus lockdown brings anguish for Ta...  0.001188  0.000000   \n",
       "Data/Does_20000_hospital_deaths_mean_failure_fo...  0.000000  0.000000   \n",
       "Data/UK_hospital_deaths_pass_20000.txt              0.001486  0.001993   \n",
       "\n",
       "                                                        less   against  \\\n",
       "Data/Coronavirus lockdown brings anguish for Ta...  0.000000  0.000000   \n",
       "Data/Does_20000_hospital_deaths_mean_failure_fo...  0.000000  0.000987   \n",
       "Data/UK_hospital_deaths_pass_20000.txt              0.001993  0.000000   \n",
       "\n",
       "                                                    exercising  \n",
       "Data/Coronavirus lockdown brings anguish for Ta...    0.003188  \n",
       "Data/Does_20000_hospital_deaths_mean_failure_fo...    0.000000  \n",
       "Data/UK_hospital_deaths_pass_20000.txt                0.000000  \n",
       "\n",
       "[3 rows x 639 columns]"
      ]
     },
     "execution_count": 1,
     "metadata": {},
     "output_type": "execute_result"
    }
   ],
   "source": [
    "import pandas as pd\n",
    "\n",
    "# load up my pickled file - pickling is simply a way of flattening a python object into a storage format\n",
    "tfidf = pd.read_pickle('Data/covid-articles-tfidf.pkl')\n",
    "tfidf"
   ]
  },
  {
   "cell_type": "markdown",
   "metadata": {},
   "source": [
    "# Distance Matrix"
   ]
  },
  {
   "cell_type": "markdown",
   "metadata": {},
   "source": [
    "We will use the *pdist()* SciPy function to get the pair-wise distance between the articles in our set.\n",
    "\n",
    "In the code box below, press *shift and tab x2* in the pdist() function to show the documentation behind the function, and to see what arguments you need to pass it."
   ]
  },
  {
   "cell_type": "code",
   "execution_count": 2,
   "metadata": {},
   "outputs": [
    {
     "ename": "NameError",
     "evalue": "name 'squareform' is not defined",
     "output_type": "error",
     "traceback": [
      "\u001b[1;31m---------------------------------------------------------------------------\u001b[0m",
      "\u001b[1;31mNameError\u001b[0m                                 Traceback (most recent call last)",
      "\u001b[1;32m<ipython-input-2-90dfec21f86f>\u001b[0m in \u001b[0;36m<module>\u001b[1;34m\u001b[0m\n\u001b[1;32m----> 1\u001b[1;33m \u001b[0mpd\u001b[0m\u001b[1;33m.\u001b[0m\u001b[0mDataFrame\u001b[0m\u001b[1;33m(\u001b[0m\u001b[0msquareform\u001b[0m\u001b[1;33m(\u001b[0m\u001b[0mpdist\u001b[0m\u001b[1;33m(\u001b[0m\u001b[0mshift\u001b[0m\u001b[1;33m-\u001b[0m\u001b[0mtab\u001b[0m\u001b[1;33m-\u001b[0m\u001b[0mtab\u001b[0m\u001b[1;33m-\u001b[0m\u001b[0mhere\u001b[0m\u001b[1;33m)\u001b[0m\u001b[1;33m)\u001b[0m\u001b[1;33m)\u001b[0m\u001b[1;33m\u001b[0m\u001b[1;33m\u001b[0m\u001b[0m\n\u001b[0m",
      "\u001b[1;31mNameError\u001b[0m: name 'squareform' is not defined"
     ]
    }
   ],
   "source": [
    "pd.DataFrame(squareform(pdist(shift-tab-tab-here)))"
   ]
  },
  {
   "cell_type": "markdown",
   "metadata": {},
   "source": [
    "By default, this function uses the Euclidean distance method, but this can be changed by passing the *metric=* keyword.\n",
    "\n",
    "The pdist function returns a 1-D array of distance measures, to create the standard square-matrix, pass the result of the pdist into the squareform() function directly.\n",
    "\n",
    "Lastly, for ease of display we will put the results of the squareform pdist directly into a Pandas DataFrame.\n",
    "\n",
    "*run the next two cells*"
   ]
  },
  {
   "cell_type": "code",
   "execution_count": 3,
   "metadata": {},
   "outputs": [],
   "source": [
    "# import the library\n",
    "from scipy.spatial.distance import squareform, pdist"
   ]
  },
  {
   "cell_type": "code",
   "execution_count": 4,
   "metadata": {},
   "outputs": [
    {
     "data": {
      "text/html": [
       "<div>\n",
       "<style scoped>\n",
       "    .dataframe tbody tr th:only-of-type {\n",
       "        vertical-align: middle;\n",
       "    }\n",
       "\n",
       "    .dataframe tbody tr th {\n",
       "        vertical-align: top;\n",
       "    }\n",
       "\n",
       "    .dataframe thead th {\n",
       "        text-align: right;\n",
       "    }\n",
       "</style>\n",
       "<table border=\"1\" class=\"dataframe\">\n",
       "  <thead>\n",
       "    <tr style=\"text-align: right;\">\n",
       "      <th></th>\n",
       "      <th>0</th>\n",
       "      <th>1</th>\n",
       "      <th>2</th>\n",
       "    </tr>\n",
       "  </thead>\n",
       "  <tbody>\n",
       "    <tr>\n",
       "      <td>0</td>\n",
       "      <td>0.000000</td>\n",
       "      <td>0.056807</td>\n",
       "      <td>0.057615</td>\n",
       "    </tr>\n",
       "    <tr>\n",
       "      <td>1</td>\n",
       "      <td>0.056807</td>\n",
       "      <td>0.000000</td>\n",
       "      <td>0.037388</td>\n",
       "    </tr>\n",
       "    <tr>\n",
       "      <td>2</td>\n",
       "      <td>0.057615</td>\n",
       "      <td>0.037388</td>\n",
       "      <td>0.000000</td>\n",
       "    </tr>\n",
       "  </tbody>\n",
       "</table>\n",
       "</div>"
      ],
      "text/plain": [
       "          0         1         2\n",
       "0  0.000000  0.056807  0.057615\n",
       "1  0.056807  0.000000  0.037388\n",
       "2  0.057615  0.037388  0.000000"
      ]
     },
     "execution_count": 4,
     "metadata": {},
     "output_type": "execute_result"
    }
   ],
   "source": [
    "# pass the tfidf table into pdist, turn the result into a square-form matrix and make a DataFrame out of it\n",
    "pd.DataFrame(squareform(pdist(tfidf)))"
   ]
  },
  {
   "cell_type": "markdown",
   "metadata": {},
   "source": [
    "In the above DataFrame, we have the distance measures between each article in the *tfidf* dataframe.\n",
    "\n",
    "The articles are labelled '0, 1, 2' and these are derived from the index position of each article in the tfidf table.\n",
    "\n",
    "#### Interpreting the square-matrix\n",
    "The higher the number, the further away from the other article it is, and thus the less similar those two articles are.\n",
    "\n",
    "Say you wanted to know how similar article 0 is to article 2. You first find 0 on the column headers, then move down that column to the index position 2. The number shown in that cell (0.057615) is the distance between article 0 and 2."
   ]
  },
  {
   "cell_type": "markdown",
   "metadata": {},
   "source": [
    "Using your knowledge of distance matrixes, answer the question below:\n",
    "\n",
    "Which pair of articles are most alike?"
   ]
  },
  {
   "cell_type": "markdown",
   "metadata": {},
   "source": [
    "#### End"
   ]
  },
  {
   "cell_type": "code",
   "execution_count": null,
   "metadata": {},
   "outputs": [],
   "source": []
  }
 ],
 "metadata": {
  "kernelspec": {
   "display_name": "Python 3",
   "language": "python",
   "name": "python3"
  },
  "language_info": {
   "codemirror_mode": {
    "name": "ipython",
    "version": 3
   },
   "file_extension": ".py",
   "mimetype": "text/x-python",
   "name": "python",
   "nbconvert_exporter": "python",
   "pygments_lexer": "ipython3",
   "version": "3.7.4"
  }
 },
 "nbformat": 4,
 "nbformat_minor": 2
}
